{
 "cells": [
  {
   "cell_type": "code",
   "execution_count": 4,
   "metadata": {
    "tags": []
   },
   "outputs": [
    {
     "name": "stdout",
     "output_type": "stream",
     "text": [
      "101 XOR 111 = 010\n"
     ]
    },
    {
     "data": {
      "image/png": "[encoded data removed]",
      "text/plain": [
       "<Figure size 705.754x618.722 with 1 Axes>"
      ]
     },
     "metadata": {},
     "output_type": "display_data"
    }
   ],
   "source": [
    "# This is the XOR Adder\n",
    "\n",
    "from qiskit import BasicAer, execute, QuantumCircuit, ClassicalRegister, QuantumRegister\n",
    "\n",
    "while True:\n",
    "    try:\n",
    "        n1, n2 = [bin(int(input(f\"Give number {i}: \")))[2:] for i in range(1, 3)]\n",
    "        break\n",
    "    except:\n",
    "        print(\"Invalid input. Please try again!\")\n",
    "\n",
    "l = max(len(n1), len(n2))\n",
    "n1, n2 = n1.zfill(l), n2.zfill(l)\n",
    "\n",
    "a = QuantumRegister(l, 'a')\n",
    "b = QuantumRegister(l, 'b')\n",
    "c = ClassicalRegister(l, 'c')\n",
    "qc = QuantumCircuit(a, b, c)\n",
    "\n",
    "qc.initialize(int(n1, 2), a)\n",
    "qc.initialize(int(n2, 2), b)\n",
    "\n",
    "for i in range(l) :\n",
    "    qc.cx(b[i], a[i])\n",
    "\n",
    "qc.measure(a, c)\n",
    "backend = BasicAer.get_backend('qasm_simulator')\n",
    "results = execute(qc, backend, shots=1).result().get_counts()\n",
    "print(f'{n1} XOR {n2} = {list(results.keys())[0]}')\n",
    "\n",
    "display(qc.draw('mpl', filename='xor_adder.svg'))"
   ]
  },
  {
   "cell_type": "code",
   "execution_count": 7,
   "metadata": {},
   "outputs": [
    {
     "name": "stdout",
     "output_type": "stream",
     "text": [
      "\n",
      " This is the string to be encrypted: hello\n",
      "\n",
      "This is the binary of the string: 0110100001100101011011000110110001101111\n",
      "\n",
      "This is the encrypted string: 1010001010101111101001101010011010100101\n",
      "\n",
      "This is would would be shown if anyone read the encrypted string: ¢¯¦¦¥\n",
      "\n",
      "This is the decrypted binary string: 0110100001100101011011000110110001101111\n",
      "\n",
      "This is the decrypted string: hello\n"
     ]
    }
   ],
   "source": [
    "# This is the XOR based encryptor-decryptor\n",
    "\n",
    "from qiskit import BasicAer, execute, QuantumCircuit, ClassicalRegister, QuantumRegister\n",
    "\n",
    "def crypt(bsl, key, kl) :\n",
    "    output = []\n",
    "\n",
    "    for i in bsl :\n",
    "        a = QuantumRegister(kl, 'a')\n",
    "        b = QuantumRegister(kl, 'b')\n",
    "        c = ClassicalRegister(kl, 'c')\n",
    "        qc = QuantumCircuit(a, b, c)\n",
    "\n",
    "        qc.initialize(int(i, 2), a)\n",
    "        qc.initialize(int(key, 2), b)\n",
    "\n",
    "        for i in range(kl) :\n",
    "            qc.cx(b[i], a[i])\n",
    "\n",
    "        qc.measure(a, c)\n",
    "        results = execute(qc, backend, shots=1).result().get_counts()\n",
    "        output.append(list(results.keys())[0])\n",
    "    \n",
    "    return output, qc\n",
    "\n",
    "\n",
    "kl = 8\n",
    "backend = BasicAer.get_backend('qasm_simulator')\n",
    "\n",
    "while True:\n",
    "    try:\n",
    "        s = input('Give string to be encrypted: ')\n",
    "        bsl = [format(ord(i), '08b') for i in s]\n",
    "        break\n",
    "    except:\n",
    "        print(\"Invalid character (out of ASCII dictionary). Please try again!\")\n",
    "\n",
    "while True:\n",
    "    try:\n",
    "        key = input(f'Give {kl}-bit binary key to encrypt the string: ')\n",
    "        if all(b in '01' for b in key) and len(key) == kl :\n",
    "            break\n",
    "        else :\n",
    "            raise Exception\n",
    "    except:\n",
    "        print(\"Invalid input. Check if it is binary and has length 8!\")\n",
    "\n",
    "print('\\nThis is the string to be encrypted:', s)\n",
    "\n",
    "print('\\nThis is the binary of the string:', ''.join(bsl))\n",
    "\n",
    "estringl, qc = crypt(bsl, key, kl)\n",
    "print('\\nThis is the encrypted string:', ''.join(estringl))\n",
    "\n",
    "print('\\nThis is would would be shown if anyone read the encrypted string:',\n",
    "      ''.join([chr(int(i, 2)) for i in estringl]))\n",
    "\n",
    "dstringl, qc = crypt(estringl, key, kl)\n",
    "print('\\nThis is the decrypted binary string:', ''.join(dstringl))\n",
    "\n",
    "print('\\nThis is the decrypted string:',\n",
    "      ''.join([chr(int(i, 2)) for i in dstringl]))\n",
    "\n",
    "# display(qc.draw('mpl'))"
   ]
  }
 ],
 "metadata": {
  "kernelspec": {
   "display_name": "Python 3",
   "language": "python",
   "name": "python3"
  },
  "language_info": {
   "codemirror_mode": {
    "name": "ipython",
    "version": 3
   },
   "file_extension": ".py",
   "mimetype": "text/x-python",
   "name": "python",
   "nbconvert_exporter": "python",
   "pygments_lexer": "ipython3",
   "version": "3.11.2"
  },
  "orig_nbformat": 4
 },
 "nbformat": 4,
 "nbformat_minor": 2
}
