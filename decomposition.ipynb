{
 "cells": [
  {
   "cell_type": "code",
   "execution_count": 8,
   "metadata": {},
   "outputs": [
    {
     "ename": "TranspilerError",
     "evalue": "\"Unable to translate the operations in the circuit: ['rx'] to the backend's (or manually specified) target basis: ['t', 'reset', 'h', 'barrier', 'measure', 'tdg', 'delay', 'snapshot']. This likely means the target basis is not universal or there are additional equivalence rules needed in the EquivalenceLibrary being used. For more details on this error see: https://qiskit.org/documentation/stubs/qiskit.transpiler.passes.BasisTranslator.html#translation_errors\"",
     "output_type": "error",
     "traceback": [
      "\u001b[1;31m---------------------------------------------------------------------------\u001b[0m",
      "\u001b[1;31mTranspilerError\u001b[0m                           Traceback (most recent call last)",
      "Cell \u001b[1;32mIn[8], line 23\u001b[0m\n\u001b[0;32m     18\u001b[0m qc\u001b[39m.\u001b[39mrx(\u001b[39m0.8\u001b[39m, \u001b[39m0\u001b[39m)\n\u001b[0;32m     19\u001b[0m \u001b[39m# qc.ccx(0,1,2)\u001b[39;00m\n\u001b[0;32m     20\u001b[0m \n\u001b[0;32m     21\u001b[0m \u001b[39m# basis_gates = ['cx', 's', 'sdg', 'h', 't', 'tdg']\u001b[39;00m\n\u001b[0;32m     22\u001b[0m \u001b[39m# basis_gates = ['rx', 'ry', 'rz', 'p', 'cx']\u001b[39;00m\n\u001b[1;32m---> 23\u001b[0m transpiled \u001b[39m=\u001b[39m transpile(qc, basis_gates\u001b[39m=\u001b[39;49m[\u001b[39m\"\u001b[39;49m\u001b[39mt\u001b[39;49m\u001b[39m\"\u001b[39;49m, \u001b[39m\"\u001b[39;49m\u001b[39mtdg\u001b[39;49m\u001b[39m\"\u001b[39;49m, \u001b[39m\"\u001b[39;49m\u001b[39mh\u001b[39;49m\u001b[39m\"\u001b[39;49m], optimization_level\u001b[39m=\u001b[39;49m\u001b[39m3\u001b[39;49m, unitary_synthesis_method\u001b[39m=\u001b[39;49m\u001b[39m'\u001b[39;49m\u001b[39msk\u001b[39;49m\u001b[39m'\u001b[39;49m)\n\u001b[0;32m     24\u001b[0m display(transpiled\u001b[39m.\u001b[39mdraw(\u001b[39m'\u001b[39m\u001b[39mmpl\u001b[39m\u001b[39m'\u001b[39m))\n",
      "File \u001b[1;32mc:\\Users\\Rishi Vora\\AppData\\Local\\Programs\\Python\\Python311\\Lib\\site-packages\\qiskit\\compiler\\transpiler.py:380\u001b[0m, in \u001b[0;36mtranspile\u001b[1;34m(circuits, backend, basis_gates, inst_map, coupling_map, backend_properties, initial_layout, layout_method, routing_method, translation_method, scheduling_method, instruction_durations, dt, approximation_degree, timing_constraints, seed_transpiler, optimization_level, callback, output_name, unitary_synthesis_method, unitary_synthesis_plugin_config, target, hls_config, init_method, optimization_method, ignore_backend_supplied_default_methods)\u001b[0m\n\u001b[0;32m    377\u001b[0m     \u001b[39mfor\u001b[39;00m circuit, unique_args \u001b[39min\u001b[39;00m \u001b[39mzip\u001b[39m(circuits, unique_transpile_args):\n\u001b[0;32m    378\u001b[0m         transpile_config, pass_manager \u001b[39m=\u001b[39m _combine_args(shared_args, unique_args)\n\u001b[0;32m    379\u001b[0m         output_circuits\u001b[39m.\u001b[39mappend(\n\u001b[1;32m--> 380\u001b[0m             _serial_transpile_circuit(\n\u001b[0;32m    381\u001b[0m                 circuit,\n\u001b[0;32m    382\u001b[0m                 pass_manager,\n\u001b[0;32m    383\u001b[0m                 transpile_config[\u001b[39m\"\u001b[39;49m\u001b[39mcallback\u001b[39;49m\u001b[39m\"\u001b[39;49m],\n\u001b[0;32m    384\u001b[0m                 transpile_config[\u001b[39m\"\u001b[39;49m\u001b[39moutput_name\u001b[39;49m\u001b[39m\"\u001b[39;49m],\n\u001b[0;32m    385\u001b[0m             )\n\u001b[0;32m    386\u001b[0m         )\n\u001b[0;32m    387\u001b[0m     circuits \u001b[39m=\u001b[39m output_circuits\n\u001b[0;32m    388\u001b[0m end_time \u001b[39m=\u001b[39m time()\n",
      "File \u001b[1;32mc:\\Users\\Rishi Vora\\AppData\\Local\\Programs\\Python\\Python311\\Lib\\site-packages\\qiskit\\compiler\\transpiler.py:462\u001b[0m, in \u001b[0;36m_serial_transpile_circuit\u001b[1;34m(circuit, pass_manager, callback, output_name)\u001b[0m\n\u001b[0;32m    456\u001b[0m \u001b[39mdef\u001b[39;00m \u001b[39m_serial_transpile_circuit\u001b[39m(\n\u001b[0;32m    457\u001b[0m     circuit,\n\u001b[0;32m    458\u001b[0m     pass_manager,\n\u001b[0;32m    459\u001b[0m     callback,\n\u001b[0;32m    460\u001b[0m     output_name,\n\u001b[0;32m    461\u001b[0m ):\n\u001b[1;32m--> 462\u001b[0m     result \u001b[39m=\u001b[39m pass_manager\u001b[39m.\u001b[39;49mrun(circuit, callback\u001b[39m=\u001b[39;49mcallback, output_name\u001b[39m=\u001b[39;49moutput_name)\n\u001b[0;32m    463\u001b[0m     \u001b[39mreturn\u001b[39;00m result\n",
      "File \u001b[1;32mc:\\Users\\Rishi Vora\\AppData\\Local\\Programs\\Python\\Python311\\Lib\\site-packages\\qiskit\\transpiler\\passmanager.py:537\u001b[0m, in \u001b[0;36mStagedPassManager.run\u001b[1;34m(self, circuits, output_name, callback)\u001b[0m\n\u001b[0;32m    530\u001b[0m \u001b[39mdef\u001b[39;00m \u001b[39mrun\u001b[39m(\n\u001b[0;32m    531\u001b[0m     \u001b[39mself\u001b[39m,\n\u001b[0;32m    532\u001b[0m     circuits: _CircuitsT,\n\u001b[0;32m    533\u001b[0m     output_name: Optional[\u001b[39mstr\u001b[39m] \u001b[39m=\u001b[39m \u001b[39mNone\u001b[39;00m,\n\u001b[0;32m    534\u001b[0m     callback: Optional[Callable] \u001b[39m=\u001b[39m \u001b[39mNone\u001b[39;00m,\n\u001b[0;32m    535\u001b[0m ) \u001b[39m-\u001b[39m\u001b[39m>\u001b[39m _CircuitsT:\n\u001b[0;32m    536\u001b[0m     \u001b[39mself\u001b[39m\u001b[39m.\u001b[39m_update_passmanager()\n\u001b[1;32m--> 537\u001b[0m     \u001b[39mreturn\u001b[39;00m \u001b[39msuper\u001b[39;49m()\u001b[39m.\u001b[39;49mrun(circuits, output_name, callback)\n",
      "File \u001b[1;32mc:\\Users\\Rishi Vora\\AppData\\Local\\Programs\\Python\\Python311\\Lib\\site-packages\\qiskit\\transpiler\\passmanager.py:231\u001b[0m, in \u001b[0;36mPassManager.run\u001b[1;34m(self, circuits, output_name, callback)\u001b[0m\n\u001b[0;32m    229\u001b[0m     \u001b[39mreturn\u001b[39;00m circuits\n\u001b[0;32m    230\u001b[0m \u001b[39mif\u001b[39;00m \u001b[39misinstance\u001b[39m(circuits, QuantumCircuit):\n\u001b[1;32m--> 231\u001b[0m     \u001b[39mreturn\u001b[39;00m \u001b[39mself\u001b[39;49m\u001b[39m.\u001b[39;49m_run_single_circuit(circuits, output_name, callback)\n\u001b[0;32m    232\u001b[0m \u001b[39mif\u001b[39;00m \u001b[39mlen\u001b[39m(circuits) \u001b[39m==\u001b[39m \u001b[39m1\u001b[39m:\n\u001b[0;32m    233\u001b[0m     \u001b[39mreturn\u001b[39;00m [\u001b[39mself\u001b[39m\u001b[39m.\u001b[39m_run_single_circuit(circuits[\u001b[39m0\u001b[39m], output_name, callback)]\n",
      "File \u001b[1;32mc:\\Users\\Rishi Vora\\AppData\\Local\\Programs\\Python\\Python311\\Lib\\site-packages\\qiskit\\transpiler\\passmanager.py:292\u001b[0m, in \u001b[0;36mPassManager._run_single_circuit\u001b[1;34m(self, circuit, output_name, callback)\u001b[0m\n\u001b[0;32m    280\u001b[0m \u001b[39m\u001b[39m\u001b[39m\"\"\"Run all the passes on a ``circuit``.\u001b[39;00m\n\u001b[0;32m    281\u001b[0m \n\u001b[0;32m    282\u001b[0m \u001b[39mArgs:\u001b[39;00m\n\u001b[1;32m   (...)\u001b[0m\n\u001b[0;32m    289\u001b[0m \u001b[39m    The transformed circuit.\u001b[39;00m\n\u001b[0;32m    290\u001b[0m \u001b[39m\"\"\"\u001b[39;00m\n\u001b[0;32m    291\u001b[0m running_passmanager \u001b[39m=\u001b[39m \u001b[39mself\u001b[39m\u001b[39m.\u001b[39m_create_running_passmanager()\n\u001b[1;32m--> 292\u001b[0m result \u001b[39m=\u001b[39m running_passmanager\u001b[39m.\u001b[39;49mrun(circuit, output_name\u001b[39m=\u001b[39;49moutput_name, callback\u001b[39m=\u001b[39;49mcallback)\n\u001b[0;32m    293\u001b[0m \u001b[39mself\u001b[39m\u001b[39m.\u001b[39mproperty_set \u001b[39m=\u001b[39m running_passmanager\u001b[39m.\u001b[39mproperty_set\n\u001b[0;32m    294\u001b[0m \u001b[39mreturn\u001b[39;00m result\n",
      "File \u001b[1;32mc:\\Users\\Rishi Vora\\AppData\\Local\\Programs\\Python\\Python311\\Lib\\site-packages\\qiskit\\transpiler\\runningpassmanager.py:125\u001b[0m, in \u001b[0;36mRunningPassManager.run\u001b[1;34m(***failed resolving arguments***)\u001b[0m\n\u001b[0;32m    123\u001b[0m \u001b[39mfor\u001b[39;00m passset \u001b[39min\u001b[39;00m \u001b[39mself\u001b[39m\u001b[39m.\u001b[39mworking_list:\n\u001b[0;32m    124\u001b[0m     \u001b[39mfor\u001b[39;00m pass_ \u001b[39min\u001b[39;00m passset:\n\u001b[1;32m--> 125\u001b[0m         dag \u001b[39m=\u001b[39m \u001b[39mself\u001b[39;49m\u001b[39m.\u001b[39;49m_do_pass(pass_, dag, passset\u001b[39m.\u001b[39;49moptions)\n\u001b[0;32m    127\u001b[0m circuit \u001b[39m=\u001b[39m dag_to_circuit(dag, copy_operations\u001b[39m=\u001b[39m\u001b[39mFalse\u001b[39;00m)\n\u001b[0;32m    128\u001b[0m \u001b[39mif\u001b[39;00m output_name:\n",
      "File \u001b[1;32mc:\\Users\\Rishi Vora\\AppData\\Local\\Programs\\Python\\Python311\\Lib\\site-packages\\qiskit\\transpiler\\runningpassmanager.py:173\u001b[0m, in \u001b[0;36mRunningPassManager._do_pass\u001b[1;34m(self, pass_, dag, options)\u001b[0m\n\u001b[0;32m    171\u001b[0m \u001b[39m# Run the pass itself, if not already run\u001b[39;00m\n\u001b[0;32m    172\u001b[0m \u001b[39mif\u001b[39;00m pass_ \u001b[39mnot\u001b[39;00m \u001b[39min\u001b[39;00m \u001b[39mself\u001b[39m\u001b[39m.\u001b[39mvalid_passes:\n\u001b[1;32m--> 173\u001b[0m     dag \u001b[39m=\u001b[39m \u001b[39mself\u001b[39;49m\u001b[39m.\u001b[39;49m_run_this_pass(pass_, dag)\n\u001b[0;32m    175\u001b[0m     \u001b[39m# update the valid_passes property\u001b[39;00m\n\u001b[0;32m    176\u001b[0m     \u001b[39mself\u001b[39m\u001b[39m.\u001b[39m_update_valid_passes(pass_)\n",
      "File \u001b[1;32mc:\\Users\\Rishi Vora\\AppData\\Local\\Programs\\Python\\Python311\\Lib\\site-packages\\qiskit\\transpiler\\runningpassmanager.py:202\u001b[0m, in \u001b[0;36mRunningPassManager._run_this_pass\u001b[1;34m(self, pass_, dag)\u001b[0m\n\u001b[0;32m    199\u001b[0m \u001b[39mif\u001b[39;00m pass_\u001b[39m.\u001b[39mis_transformation_pass:\n\u001b[0;32m    200\u001b[0m     \u001b[39m# Measure time if we have a callback or logging set\u001b[39;00m\n\u001b[0;32m    201\u001b[0m     start_time \u001b[39m=\u001b[39m time()\n\u001b[1;32m--> 202\u001b[0m     new_dag \u001b[39m=\u001b[39m pass_\u001b[39m.\u001b[39;49mrun(dag)\n\u001b[0;32m    203\u001b[0m     end_time \u001b[39m=\u001b[39m time()\n\u001b[0;32m    204\u001b[0m     run_time \u001b[39m=\u001b[39m end_time \u001b[39m-\u001b[39m start_time\n",
      "File \u001b[1;32mc:\\Users\\Rishi Vora\\AppData\\Local\\Programs\\Python\\Python311\\Lib\\site-packages\\qiskit\\transpiler\\passes\\basis\\basis_translator.py:211\u001b[0m, in \u001b[0;36mBasisTranslator.run\u001b[1;34m(self, dag)\u001b[0m\n\u001b[0;32m    206\u001b[0m logger\u001b[39m.\u001b[39minfo(\n\u001b[0;32m    207\u001b[0m     \u001b[39m\"\u001b[39m\u001b[39mBasis translation path search completed in \u001b[39m\u001b[39m%.3f\u001b[39;00m\u001b[39ms.\u001b[39m\u001b[39m\"\u001b[39m, search_end_time \u001b[39m-\u001b[39m search_start_time\n\u001b[0;32m    208\u001b[0m )\n\u001b[0;32m    210\u001b[0m \u001b[39mif\u001b[39;00m basis_transforms \u001b[39mis\u001b[39;00m \u001b[39mNone\u001b[39;00m:\n\u001b[1;32m--> 211\u001b[0m     \u001b[39mraise\u001b[39;00m TranspilerError(\n\u001b[0;32m    212\u001b[0m         \u001b[39m\"\u001b[39m\u001b[39mUnable to translate the operations in the circuit: \u001b[39m\u001b[39m\"\u001b[39m\n\u001b[0;32m    213\u001b[0m         \u001b[39mf\u001b[39m\u001b[39m\"\u001b[39m\u001b[39m{\u001b[39;00m[x[\u001b[39m0\u001b[39m]\u001b[39m \u001b[39m\u001b[39mfor\u001b[39;00m\u001b[39m \u001b[39mx\u001b[39m \u001b[39m\u001b[39min\u001b[39;00m\u001b[39m \u001b[39msource_basis]\u001b[39m}\u001b[39;00m\u001b[39m to the backend\u001b[39m\u001b[39m'\u001b[39m\u001b[39ms (or manually specified) target \u001b[39m\u001b[39m\"\u001b[39m\n\u001b[0;32m    214\u001b[0m         \u001b[39mf\u001b[39m\u001b[39m\"\u001b[39m\u001b[39mbasis: \u001b[39m\u001b[39m{\u001b[39;00m\u001b[39mlist\u001b[39m(target_basis)\u001b[39m}\u001b[39;00m\u001b[39m. This likely means the target basis is not universal \u001b[39m\u001b[39m\"\u001b[39m\n\u001b[0;32m    215\u001b[0m         \u001b[39m\"\u001b[39m\u001b[39mor there are additional equivalence rules needed in the EquivalenceLibrary being \u001b[39m\u001b[39m\"\u001b[39m\n\u001b[0;32m    216\u001b[0m         \u001b[39m\"\u001b[39m\u001b[39mused. For more details on this error see: \u001b[39m\u001b[39m\"\u001b[39m\n\u001b[0;32m    217\u001b[0m         \u001b[39m\"\u001b[39m\u001b[39mhttps://qiskit.org/documentation/stubs/qiskit.transpiler.passes.BasisTranslator.\u001b[39m\u001b[39m\"\u001b[39m\n\u001b[0;32m    218\u001b[0m         \u001b[39m\"\u001b[39m\u001b[39mhtml#translation_errors\u001b[39m\u001b[39m\"\u001b[39m\n\u001b[0;32m    219\u001b[0m     )\n\u001b[0;32m    221\u001b[0m \u001b[39m# Compose found path into a set of instruction substitution rules.\u001b[39;00m\n\u001b[0;32m    223\u001b[0m compose_start_time \u001b[39m=\u001b[39m time\u001b[39m.\u001b[39mtime()\n",
      "\u001b[1;31mTranspilerError\u001b[0m: \"Unable to translate the operations in the circuit: ['rx'] to the backend's (or manually specified) target basis: ['t', 'reset', 'h', 'barrier', 'measure', 'tdg', 'delay', 'snapshot']. This likely means the target basis is not universal or there are additional equivalence rules needed in the EquivalenceLibrary being used. For more details on this error see: https://qiskit.org/documentation/stubs/qiskit.transpiler.passes.BasisTranslator.html#translation_errors\""
     ]
    }
   ],
   "source": [
    "from qiskit import QuantumCircuit\n",
    "from qiskit.quantum_info import Operator\n",
    "from qiskit.compiler import transpile\n",
    "import numpy as np\n",
    "\n",
    "\n",
    "# u = Operator([[0, 0, 1, 0, 0, 0, 0, 0],\n",
    "#               [1, 0, 0, 0, 0, 0, 0, 0],\n",
    "#               [0, 1, 0, 0, 0, 0, 0, 0],\n",
    "#               [0, 0, 0, 1, 0, 0, 0, 0],\n",
    "#               [0, 0, 0, 0, 0, 0, 0, 1],\n",
    "#               [0, 0, 0, 0, 0, 1, 0, 0],\n",
    "#               [0, 0, 0, 0, 0, 0, 1, 0],\n",
    "#               [0, 0, 0, 0, 1, 0, 0, 0]])\n",
    "\n",
    "qc = QuantumCircuit(1)\n",
    "# qc.unitary(u, [0,1,2], label='u')\n",
    "qc.rx(0.8, 0)\n",
    "# qc.ccx(0,1,2)\n",
    "\n",
    "# basis_gates = ['cx', 's', 'sdg', 'h', 't', 'tdg']\n",
    "# basis_gates = ['rx', 'ry', 'rz', 'p', 'cx']\n",
    "transpiled = transpile(qc, basis_gates=[\"t\", \"tdg\", \"h\"], optimization_level=3, unitary_synthesis_method='sk')\n",
    "display(transpiled.draw('mpl'))"
   ]
  },
  {
   "cell_type": "code",
   "execution_count": 10,
   "metadata": {},
   "outputs": [
    {
     "name": "stdout",
     "output_type": "stream",
     "text": [
      "Original circuit:\n"
     ]
    },
    {
     "data": {
      "image/png": "[encoded data removed]",
      "text/plain": [
       "<Figure size 454.719x284.278 with 1 Axes>"
      ]
     },
     "metadata": {},
     "output_type": "display_data"
    },
    {
     "name": "stdout",
     "output_type": "stream",
     "text": [
      "Discretized circuit:\n"
     ]
    },
    {
     "data": {
      "image/png": "[encoded data removed]",
      "text/plain": [
       "<Figure size 1876.11x284.278 with 1 Axes>"
      ]
     },
     "metadata": {},
     "output_type": "display_data"
    },
    {
     "name": "stdout",
     "output_type": "stream",
     "text": [
      "Error: 5.6526792565763255\n"
     ]
    }
   ],
   "source": [
    "import numpy as np\n",
    "from qiskit.circuit import QuantumCircuit\n",
    "# from qiskit.transpiler.passes.synthesis import SolovayKitaev\n",
    "from qiskit.synthesis import generate_basic_approximations\n",
    "from qiskit.transpiler.passes import SolovayKitaev\n",
    "from qiskit.quantum_info import Operator\n",
    "\n",
    "circuit = QuantumCircuit(3)\n",
    "circuit.rx(np.pi/4, 0)\n",
    "circuit.ry(np.pi/6, 1)\n",
    "circuit.cx(0, 1)\n",
    "circuit.ccx(0,1,2)\n",
    "circuit.swap(0,1)\n",
    "\n",
    "print(\"Original circuit:\")\n",
    "display(circuit.draw('mpl'))\n",
    "\n",
    "# skd = SolovayKitaev(recursion_degree=2)\n",
    "basis = [\"s\", \"sdg\", \"t\", \"tdg\", \"h\"]\n",
    "approx = generate_basic_approximations(basis, depth=3)\n",
    "\n",
    "skd = SolovayKitaev(recursion_degree=2, basic_approximations=approx)\n",
    "\n",
    "discretized = skd(circuit)\n",
    "\n",
    "print(\"Discretized circuit:\")\n",
    "display(discretized.draw('mpl'))\n",
    "\n",
    "print(\"Error:\", np.linalg.norm(Operator(circuit).data - Operator(discretized).data))"
   ]
  },
  {
   "cell_type": "code",
   "execution_count": 36,
   "metadata": {},
   "outputs": [
    {
     "name": "stdout",
     "output_type": "stream",
     "text": [
      "G [[ 0.70710678  0.          0.         -0.70710678]\n",
      " [ 0.          1.          0.          0.        ]\n",
      " [ 0.          0.          1.          0.        ]\n",
      " [ 0.70710678  0.          0.          0.70710678]]\n",
      "F [[ 0.        +0.j          0.35355339+0.35355339j  0.70710678+0.j\n",
      "   0.35355339-0.35355339j]\n",
      " [ 0.5       +0.j          0.        +0.5j        -0.5       +0.j\n",
      "   0.        -0.5j       ]\n",
      " [ 0.5       +0.j         -0.5       +0.j          0.5       +0.j\n",
      "  -0.5       +0.j        ]\n",
      " [ 0.70710678+0.j          0.35355339-0.35355339j  0.        +0.j\n",
      "   0.35355339+0.35355339j]]\n",
      "G [[ 0.  0. -1.  0.]\n",
      " [ 0.  1.  0.  0.]\n",
      " [ 1.  0.  0.  0.]\n",
      " [ 0.  0.  0.  1.]]\n",
      "F [[-0.5       +0.j          0.5       +0.j         -0.5       +0.j\n",
      "   0.5       +0.j        ]\n",
      " [ 0.5       +0.j          0.        +0.5j        -0.5       +0.j\n",
      "   0.        -0.5j       ]\n",
      " [ 0.        +0.j          0.35355339+0.35355339j  0.70710678+0.j\n",
      "   0.35355339-0.35355339j]\n",
      " [ 0.70710678+0.j          0.35355339-0.35355339j  0.        +0.j\n",
      "   0.35355339+0.35355339j]]\n",
      "G [[-0.70710678 -0.70710678  0.          0.        ]\n",
      " [ 0.70710678 -0.70710678  0.          0.        ]\n",
      " [ 0.          0.          1.          0.        ]\n",
      " [ 0.          0.          0.          1.        ]]\n",
      "F [[ 0.        +0.j         -0.35355339-0.35355339j  0.70710678+0.j\n",
      "  -0.35355339+0.35355339j]\n",
      " [-0.70710678+0.j          0.35355339-0.35355339j  0.        +0.j\n",
      "   0.35355339+0.35355339j]\n",
      " [ 0.        +0.j          0.35355339+0.35355339j  0.70710678+0.j\n",
      "   0.35355339-0.35355339j]\n",
      " [ 0.70710678+0.j          0.35355339-0.35355339j  0.        +0.j\n",
      "   0.35355339+0.35355339j]]\n",
      "Q [[ 0.          0.          0.70710678  0.70710678]\n",
      " [-0.70710678 -0.70710678  0.          0.        ]\n",
      " [ 0.70710678 -0.70710678  0.          0.        ]\n",
      " [ 0.          0.         -0.70710678  0.70710678]]\n",
      "R [[ 0.        +0.j         -0.35355339-0.35355339j  0.70710678+0.j\n",
      "  -0.35355339+0.35355339j]\n",
      " [-0.70710678+0.j          0.35355339-0.35355339j  0.        +0.j\n",
      "   0.35355339+0.35355339j]\n",
      " [ 0.        +0.j          0.35355339+0.35355339j  0.70710678+0.j\n",
      "   0.35355339-0.35355339j]\n",
      " [ 0.70710678+0.j          0.35355339-0.35355339j  0.        +0.j\n",
      "   0.35355339+0.35355339j]]\n"
     ]
    },
    {
     "name": "stderr",
     "output_type": "stream",
     "text": [
      "C:\\Users\\Rishi Vora\\AppData\\Local\\Temp\\ipykernel_25796\\3239379324.py:29: ComplexWarning: Casting complex values to real discards the imaginary part\n",
      "  G[[col, row], [col, row]] = c\n",
      "C:\\Users\\Rishi Vora\\AppData\\Local\\Temp\\ipykernel_25796\\3239379324.py:30: ComplexWarning: Casting complex values to real discards the imaginary part\n",
      "  G[row, col] = -s\n",
      "C:\\Users\\Rishi Vora\\AppData\\Local\\Temp\\ipykernel_25796\\3239379324.py:31: ComplexWarning: Casting complex values to real discards the imaginary part\n",
      "  G[col, row] = s\n"
     ]
    }
   ],
   "source": [
    "#########   Givens rotation module   ############\n",
    "import numpy as np\n",
    "\n",
    "#########   Perform QR decomposition using Givens rotation   ############\n",
    "\n",
    "def givens_rotation(A):\n",
    "\n",
    "    (num_rows, num_cols) = np.shape(A)\n",
    "    \n",
    "    # Initialize Q,R\n",
    "    # Q = orthogonal matrix\n",
    "    # R =  upper triangular matrix\n",
    "    Q = np.identity(num_rows)\n",
    "    R = np.copy(A)\n",
    "\n",
    "    # Iterate over lower triangular matrix.\n",
    "    # (rows, cols) = np.tril_indices(num_rows, -1, num_cols)\n",
    "    (rows, cols) = np.array([3, 2, 1]), np.array([0, 0, 0])\n",
    "    # print(rows, cols)\n",
    "\n",
    "    for (row, col) in zip(rows, cols):\n",
    "\n",
    "        # Compute Givens rotation matrix and\n",
    "        # zero-out lower triangular matrix entries.\n",
    "        if R[row, col] != 0:\n",
    "            (c, s) = Givens_Rotation_Matrix_Entries(R[col, col], R[row, col])\n",
    "\n",
    "            G = np.identity(num_rows)\n",
    "            G[[col, row], [col, row]] = c\n",
    "            G[row, col] = -s\n",
    "            G[col, row] = s\n",
    "\n",
    "            R = np.dot(G, R)\n",
    "            Q = np.dot(Q, G.T)\n",
    "            print('G', G)\n",
    "            A = np.matmul(G, A)\n",
    "            print('F', A)\n",
    "\n",
    "    return (Q, R)\n",
    "\n",
    "##### Compute matrix entries for Givens rotation. #####\n",
    "\n",
    "def Givens_Rotation_Matrix_Entries(a, b):\n",
    "    r = np.sqrt(a**2 + b**2)\n",
    "    c = a/r\n",
    "    s = -b/r\n",
    "\n",
    "    return (c, s)\n",
    "\n",
    "# A = np.array([\n",
    "#     [6,5,0],\n",
    "#     [5,1,4],\n",
    "#     [0,4,3]\n",
    "# ])\n",
    "\n",
    "A = 0.5*np.array([\n",
    "    [1, 1, 1, 1],\n",
    "    [1, 1j, -1, -1j],\n",
    "    [1, -1, 1, -1],\n",
    "    [1, -1j, -1, 1j],\n",
    "])\n",
    "\n",
    "# A = np.array([\n",
    "#     [1/2, 1/(2 )]\n",
    "# ])\n",
    "\n",
    "(Q, R) = givens_rotation(A)\n",
    "\n",
    "print('Q', Q)\n",
    "print('R', R)"
   ]
  },
  {
   "cell_type": "code",
   "execution_count": 46,
   "metadata": {},
   "outputs": [
    {
     "name": "stdout",
     "output_type": "stream",
     "text": [
      "[[1. 0. 0. 0.]\n",
      " [0. 1. 0. 0.]\n",
      " [0. 0. 1. 0.]\n",
      " [0. 0. 0. 1.]]\n"
     ]
    }
   ],
   "source": [
    "import numpy as np\n",
    "\n",
    "U = 0.5*np.array([\n",
    "    [1, 1, 1, 1],\n",
    "    [1, 1j, -1, -1j],\n",
    "    [1, -1, 1, -1],\n",
    "    [1, -1j, -1, 1j],\n",
    "])\n",
    "\n",
    "d = len(U)\n",
    "\n",
    "G = np.identity(d)\n",
    "\n",
    "row, col = 3, 4\n",
    "a = U[3, 0]\n",
    "b = U[2, 0]\n",
    "r = np.sqrt(a**2 + b**2)\n",
    "\n",
    "G "
   ]
  }
 ],
 "metadata": {
  "kernelspec": {
   "display_name": "Python 3",
   "language": "python",
   "name": "python3"
  },
  "language_info": {
   "codemirror_mode": {
    "name": "ipython",
    "version": 3
   },
   "file_extension": ".py",
   "mimetype": "text/x-python",
   "name": "python",
   "nbconvert_exporter": "python",
   "pygments_lexer": "ipython3",
   "version": "3.11.2"
  },
  "orig_nbformat": 4
 },
 "nbformat": 4,
 "nbformat_minor": 2
}
